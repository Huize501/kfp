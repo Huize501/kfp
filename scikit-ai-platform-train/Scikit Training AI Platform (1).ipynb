{
 "cells": [
  {
   "cell_type": "code",
   "execution_count": 1,
   "metadata": {},
   "outputs": [
    {
     "name": "stdout",
     "output_type": "stream",
     "text": [
      "Help on function Submitting a Cloud ML training job as a pipeline step:\n",
      "\n",
      "Submitting a Cloud ML training job as a pipeline step(project_id:'GCPProjectID', python_module:'String'='', package_uris:'List'='', region:'GCPRegion'='', args:'List'='', job_dir:'GCSPath'='', python_version:'String'='', runtime_version:'String'='', master_image_uri:'GCRPath'='', worker_image_uri:'GCRPath'='', training_input:'Dict'='', job_id_prefix:'String'='', wait_interval:'Integer'='30')\n",
      "    Submitting a Cloud ML training job as a pipeline step\n",
      "    A Kubeflow Pipeline component to submit a Cloud Machine Learning (Cloud ML) \n",
      "    Engine training job as a step in a pipeline.\n",
      "\n"
     ]
    }
   ],
   "source": [
    "import kfp.components as comp\n",
    "\n",
    "mlengine_train_op = comp.load_component_from_url(\n",
    "    'https://raw.githubusercontent.com/kubeflow/pipelines/a97f1d0ad0e7b92203f35c5b0b9af3a314952e05/components/gcp/ml_engine/train/component.yaml')\n",
    "help(mlengine_train_op)"
   ]
  },
  {
   "cell_type": "code",
   "execution_count": 8,
   "metadata": {},
   "outputs": [],
   "source": [
    "import kfp.dsl as dsl\n",
    "import kfp.gcp as gcp\n",
    "import json\n",
    "@dsl.pipeline(\n",
    "    name='CloudML training pipeline',\n",
    "    description='CloudML training pipeline'\n",
    ")\n",
    "def pipeline(\n",
    "    project_id = 'erwinh-mldemo',\n",
    "    python_module = 'trainer.task',\n",
    "    package_uris = 'gs://erwinh-mldemo/scikit/model/trainer.tar.gz',\n",
    "    region = 'us-central1',\n",
    "    args = [\n",
    "        '--pathdata', 'gs://erwinh-mldemo/scikit/marketing-data.csv',\n",
    "        '--pathoutput', 'gs://erwinh-mldemo/scikit/model',\n",
    "        '--storage', 'BQ',\n",
    "        '--bqtable', 'erwinh-mldemo.marketing.marketing_propensity_main'\n",
    "    ],\n",
    "    job_dir = 'gs://huize501',\n",
    "    python_version = '3.5',\n",
    "    runtime_version = '1.14',\n",
    "    master_image_uri = '',\n",
    "    worker_image_uri = '',\n",
    "    training_input = '',\n",
    "    job_id_prefix = '',\n",
    "    wait_interval = '30'):\n",
    "    \n",
    "    task_1 = mlengine_train_op(\n",
    "        project_id=project_id, \n",
    "        python_module=python_module, \n",
    "        package_uris=package_uris, \n",
    "        region=region, \n",
    "        args=args, \n",
    "        python_version=python_version,\n",
    "        runtime_version=runtime_version, \n",
    "        master_image_uri=master_image_uri, \n",
    "        worker_image_uri=worker_image_uri, \n",
    "        training_input=training_input, \n",
    "        job_id_prefix=job_id_prefix, \n",
    "        wait_interval=wait_interval).apply(gcp.use_gcp_secret('user-gcp-sa'))\n",
    "    \n",
    "    "
   ]
  },
  {
   "cell_type": "code",
   "execution_count": 9,
   "metadata": {},
   "outputs": [],
   "source": [
    "pipeline_func = pipeline\n",
    "pipeline_filename = pipeline_func.__name__ + '.zip'\n",
    "import kfp.compiler as compiler\n",
    "compiler.Compiler().compile(pipeline_func, pipeline_filename)"
   ]
  },
  {
   "cell_type": "code",
   "execution_count": 10,
   "metadata": {},
   "outputs": [
    {
     "data": {
      "text/html": [
       "Experiment link <a href=\"/pipeline/#/experiments/details/bcb6914f-2e84-4b55-81f6-10eba686ea50\" target=\"_blank\" >here</a>"
      ],
      "text/plain": [
       "<IPython.core.display.HTML object>"
      ]
     },
     "metadata": {},
     "output_type": "display_data"
    },
    {
     "data": {
      "text/html": [
       "Run link <a href=\"/pipeline/#/runs/details/a3b797ed-cd78-11e9-aec6-42010a8000ae\" target=\"_blank\" >here</a>"
      ],
      "text/plain": [
       "<IPython.core.display.HTML object>"
      ]
     },
     "metadata": {},
     "output_type": "display_data"
    }
   ],
   "source": [
    "#Specify pipeline argument values\n",
    "arguments = {}\n",
    "\n",
    "#Get or create an experiment and submit a pipeline run\n",
    "import kfp\n",
    "client = kfp.Client()\n",
    "experiment = client.create_experiment('AI Platform Test')\n",
    "\n",
    "#Submit a pipeline run\n",
    "run_name = pipeline_func.__name__ + ' run'\n",
    "run_result = client.run_pipeline(experiment.id, run_name, pipeline_filename, arguments)"
   ]
  },
  {
   "cell_type": "code",
   "execution_count": null,
   "metadata": {},
   "outputs": [],
   "source": []
  },
  {
   "cell_type": "code",
   "execution_count": null,
   "metadata": {},
   "outputs": [],
   "source": []
  }
 ],
 "metadata": {
  "kernelspec": {
   "display_name": "Python 3",
   "language": "python",
   "name": "python3"
  },
  "language_info": {
   "codemirror_mode": {
    "name": "ipython",
    "version": 3
   },
   "file_extension": ".py",
   "mimetype": "text/x-python",
   "name": "python",
   "nbconvert_exporter": "python",
   "pygments_lexer": "ipython3",
   "version": "3.6.7"
  }
 },
 "nbformat": 4,
 "nbformat_minor": 2
}
