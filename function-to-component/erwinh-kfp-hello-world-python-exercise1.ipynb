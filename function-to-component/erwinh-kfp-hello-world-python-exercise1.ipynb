{
 "cells": [
  {
   "cell_type": "code",
   "execution_count": null,
   "metadata": {},
   "outputs": [],
   "source": [
    "#KFP_PACKAGE = 'https://storage.googleapis.com/ml-pipeline/release/0.1.20/kfp.tar.gz'\n",
    "#!pip3 install $KFP_PACKAGE --upgrade"
   ]
  },
  {
   "cell_type": "markdown",
   "metadata": {},
   "source": [
    "# Hello world with KubeFlow Pipelines \n",
    "\n",
    "Welcome to your first step with KubeFlow Pipelines (KFP). This exercises focusses on: \n",
    "\n",
    "* Creating a KubeFlow pipeline using the KFP SDK\n",
    "* Creating your first experiment and submitting the pipeline to KFP run time enviroment using the SDK \n",
    "\n",
    "Run this notebook on your Jupyter Hub environment on Kubeflow\n",
    "\n",
    "Reference documentation: \n",
    "* https://www.kubeflow.org/docs/pipelines/sdk/build-component/\n",
    "* https://www.kubeflow.org/docs/pipelines/sdk/sdk-overview/"
   ]
  },
  {
   "cell_type": "markdown",
   "metadata": {},
   "source": [
    "## Setup"
   ]
  },
  {
   "cell_type": "markdown",
   "metadata": {},
   "source": [
    "Change the following constants in the code to make sure it maches your project + bucket: \n",
    "\n",
    "- PROJECT_NAME\n",
    "- OUTPUT_DIR"
   ]
  },
  {
   "cell_type": "code",
   "execution_count": 2,
   "metadata": {},
   "outputs": [],
   "source": [
    "# Set your output and project. !!!Must Do before you can proceed!!!\n",
    "EXPERIMENT_NAME = 'Hellow world!-v1'\n",
    "PROJECT_NAME =  'your-gcp-project-name' #'your-gcp-project-name'\n",
    "OUTPUT_DIR = 'gs://path-to-your-gcs-bucket' # 'path-to-your-gcp'\n",
    "BASE_IMAGE='tensorflow/tensorflow:1.11.0-py3'  # Based image used in various steps of the pipeline\n",
    "TARGET_IMAGE='gcr.io/%s/pusher:latest' % PROJECT_NAME # Target image that will include our final code"
   ]
  },
  {
   "cell_type": "code",
   "execution_count": 1,
   "metadata": {},
   "outputs": [],
   "source": [
    "# Let's import the libraries needed (leave as is)\n",
    "import kfp\n",
    "import kfp.dsl as dsl\n",
    "from kfp.gcp import use_gcp_secret\n",
    "from kubernetes import client as k8s_client\n",
    "from kfp import compiler\n",
    "from kfp import notebook\n",
    "from kfp import components as comp"
   ]
  },
  {
   "cell_type": "markdown",
   "metadata": {},
   "source": [
    "## Create a function that we will turn in a component"
   ]
  },
  {
   "cell_type": "markdown",
   "metadata": {},
   "source": [
    "Here you need to implement a python function that takes two arguments, uses Numpy to multiply the two arguments and then returns the results. Later we will use this function to create a KFP component. "
   ]
  },
  {
   "cell_type": "code",
   "execution_count": null,
   "metadata": {},
   "outputs": [],
   "source": [
    "@dsl.python_component(\n",
    "    name='name', # give your component op a name\n",
    "    description='description', #give your component a name\n",
    "    base_image=BASE_IMAGE  # note you can define the base image here, or during build time. \n",
    "    )\n"
   ]
  },
  {
   "cell_type": "code",
   "execution_count": null,
   "metadata": {},
   "outputs": [],
   "source": [
    "# simpel test your function\n",
    "\n",
    "a = 2\n",
    "b = 4\n",
    "\n",
    "z = computation(a, b)\n",
    "\n",
    "print (z)"
   ]
  },
  {
   "cell_type": "markdown",
   "metadata": {},
   "source": [
    "## Build a Pipeline Step With the Above Function"
   ]
  },
  {
   "cell_type": "markdown",
   "metadata": {},
   "source": [
    "#### Option One: Specify the dependency directly"
   ]
  },
  {
   "cell_type": "markdown",
   "metadata": {},
   "source": [
    "First we create our component using the python function from abbove. Build_component automatically builds a container image for the component_func based on the base_image and pushes to the target_image."
   ]
  },
  {
   "cell_type": "code",
   "execution_count": 5,
   "metadata": {},
   "outputs": [
    {
     "name": "stdout",
     "output_type": "stream",
     "text": [
      "2019-07-23 10:14:31:INFO:Build an image that is based on tensorflow/tensorflow:1.11.0-py3 and push the image to gcr.io/erwinh-mldemo/pusher:latest\n",
      "2019-07-23 10:14:31:INFO:Checking path: gs://kfp-app/tmp...\n",
      "2019-07-23 10:14:31:INFO:Generate entrypoint and serialization codes.\n",
      "2019-07-23 10:14:31:INFO:Generate build files.\n",
      "2019-07-23 10:14:31:INFO:Start a kaniko job for build.\n",
      "2019-07-23 10:14:31:INFO:Cannot Find local kubernetes config. Trying in-cluster config.\n",
      "2019-07-23 10:14:31:INFO:Initialized with in-cluster config.\n",
      "2019-07-23 10:14:36:INFO:5 seconds: waiting for job to complete\n",
      "2019-07-23 10:14:41:INFO:10 seconds: waiting for job to complete\n",
      "2019-07-23 10:14:46:INFO:15 seconds: waiting for job to complete\n",
      "2019-07-23 10:14:51:INFO:20 seconds: waiting for job to complete\n",
      "2019-07-23 10:14:56:INFO:25 seconds: waiting for job to complete\n",
      "2019-07-23 10:15:01:INFO:30 seconds: waiting for job to complete\n",
      "2019-07-23 10:15:06:INFO:35 seconds: waiting for job to complete\n",
      "2019-07-23 10:15:11:INFO:40 seconds: waiting for job to complete\n",
      "2019-07-23 10:15:16:INFO:45 seconds: waiting for job to complete\n",
      "2019-07-23 10:15:21:INFO:50 seconds: waiting for job to complete\n",
      "2019-07-23 10:15:26:INFO:55 seconds: waiting for job to complete\n",
      "2019-07-23 10:15:26:INFO:Kaniko job complete.\n",
      "2019-07-23 10:15:27:INFO:Build component complete.\n"
     ]
    }
   ],
   "source": [
    "# Build Python Component\n",
    "from kfp import compiler\n",
    "\n",
    "mult_opp = compiler.build_python_component(\n",
    "          component_func= \"set to your function name\", # here we refer to function we created\n",
    "          staging_gcs_path=OUTPUT_DIR, # staging directory\n",
    "          dependency=[kfp.compiler.VersionedDependency(name='google-api-python-client', version='1.7.0')],\n",
    "          base_image=BASE_IMAGE, # specify base image\n",
    "          target_image=TARGET_IMAGE # target image\n",
    "          )"
   ]
  },
  {
   "cell_type": "markdown",
   "metadata": {},
   "source": [
    "## Build a pipeline using this component"
   ]
  },
  {
   "cell_type": "markdown",
   "metadata": {},
   "source": [
    "Now we can create our own pipeline pipeline. Implement a function that takes three arguments and performs three tasks:\n",
    "\n",
    "- add_task_1 -> a * b \n",
    "- add_task_2 -> a * c\n",
    "- add_task_total -> output_add_task_1 * output_add_task_2\n",
    "\n",
    "Some tips/hints :)\n",
    "\n",
    "- Use the opp that you just created (multi_opp)\n",
    "- You can pass pipeline paramater as arguments\n",
    "- You can create a dependency between tasks\n",
    "- If your stuck you can look at the exmaple1 Notebook in the repo "
   ]
  },
  {
   "cell_type": "code",
   "execution_count": 50,
   "metadata": {},
   "outputs": [],
   "source": [
    "import kfp.dsl as dsl\n",
    "\n",
    "@dsl.pipeline(\n",
    "   name='Numpy multiply pipeline',\n",
    "   description='A toy pipeline that performs numpy calculations.'\n",
    "   )\n"
   ]
  },
  {
   "cell_type": "markdown",
   "metadata": {},
   "source": [
    "### Compile the pipeline"
   ]
  },
  {
   "cell_type": "markdown",
   "metadata": {},
   "source": [
    "We have created a component using from a Python function. Then we created our pipeline using the component. Now we can take the pipeline and compolie it. "
   ]
  },
  {
   "cell_type": "code",
   "execution_count": 51,
   "metadata": {},
   "outputs": [],
   "source": [
    "pipeline_func = calc_pipeline\n",
    "pipeline_filename = pipeline_func.__name__ + '.pipeline.zip'\n",
    "import kfp.compiler as compiler\n",
    "compiler.Compiler().compile(pipeline_func, pipeline_filename)"
   ]
  },
  {
   "cell_type": "markdown",
   "metadata": {},
   "source": [
    "Have a look at your local workdir. Here you will find the pipeline.zip file. This zip file contains the yaml file that descirbes your pipeline. "
   ]
  },
  {
   "cell_type": "markdown",
   "metadata": {},
   "source": [
    "### Create experiment"
   ]
  },
  {
   "cell_type": "markdown",
   "metadata": {},
   "source": [
    "Now we need to create an experiment. This is a workspace where you can try different configurations of your pipelines. "
   ]
  },
  {
   "cell_type": "code",
   "execution_count": 30,
   "metadata": {},
   "outputs": [
    {
     "data": {
      "text/html": [
       "Experiment link <a href=\"/pipeline/#/experiments/details/35308732-3880-4ed5-8a5c-7d98f7c2aeb1\" target=\"_blank\" >here</a>"
      ],
      "text/plain": [
       "<IPython.core.display.HTML object>"
      ]
     },
     "metadata": {},
     "output_type": "display_data"
    }
   ],
   "source": [
    "import kfp\n",
    "client = kfp.Client()\n",
    "experiment = client.create_experiment(EXPERIMENT_NAME)"
   ]
  },
  {
   "cell_type": "markdown",
   "metadata": {},
   "source": [
    "### Submit Pipeline"
   ]
  },
  {
   "cell_type": "code",
   "execution_count": 53,
   "metadata": {},
   "outputs": [
    {
     "data": {
      "text/html": [
       "Run link <a href=\"/pipeline/#/runs/details/42aebcaf-ad36-11e9-aec6-42010a8000ae\" target=\"_blank\" >here</a>"
      ],
      "text/plain": [
       "<IPython.core.display.HTML object>"
      ]
     },
     "metadata": {},
     "output_type": "display_data"
    }
   ],
   "source": [
    "import time\n",
    "\n",
    "#Specify pipeline argument values\n",
    "arguments = {'a': '2', 'b': '4', 'c': '8'}\n",
    "\n",
    "#Submit a pipeline run\n",
    "run_name = pipeline_func.__name__ + ' run-%s' % (int(time.time()))\n",
    "run_result = client.run_pipeline(experiment.id, run_name, pipeline_filename, arguments)\n",
    "\n",
    "#This link leads to the run information page. \n",
    "#Note: There is a bug in JupyterLab that modifies the URL and makes the link stop working"
   ]
  },
  {
   "cell_type": "markdown",
   "metadata": {},
   "source": [
    "The output of every step in your pipeline should look like this:\n",
    "\n",
    "- add_task_1 -> 8 \n",
    "- add_task_2 -> 16\n",
    "- add_task_total -> 128\n",
    "\n",
    "The great thing about this setup is that we can change the arguments taken by the pipeline and  re-run. Try it! "
   ]
  },
  {
   "cell_type": "raw",
   "metadata": {},
   "source": [
    "# Copyright 2019 Google Inc. All Rights Reserved.\n",
    "#\n",
    "# Licensed under the Apache License, Version 2.0 (the \"License\");\n",
    "# you may not use this file except in compliance with the License.\n",
    "# You may obtain a copy of the License at\n",
    "#\n",
    "#     http://www.apache.org/licenses/LICENSE-2.0\n",
    "#\n",
    "# Unless required by applicable law or agreed to in writing, software\n",
    "# distributed under the License is distributed on an \"AS IS\" BASIS,\n",
    "# WITHOUT WARRANTIES OR CONDITIONS OF ANY KIND, either express or implied.\n",
    "# See the License for the specific language governing permissions and\n",
    "# limitations under the License."
   ]
  },
  {
   "cell_type": "code",
   "execution_count": null,
   "metadata": {},
   "outputs": [],
   "source": []
  }
 ],
 "metadata": {
  "kernelspec": {
   "display_name": "Python 3",
   "language": "python",
   "name": "python3"
  },
  "language_info": {
   "codemirror_mode": {
    "name": "ipython",
    "version": 3
   },
   "file_extension": ".py",
   "mimetype": "text/x-python",
   "name": "python",
   "nbconvert_exporter": "python",
   "pygments_lexer": "ipython3",
   "version": "3.6.7"
  }
 },
 "nbformat": 4,
 "nbformat_minor": 2
}
