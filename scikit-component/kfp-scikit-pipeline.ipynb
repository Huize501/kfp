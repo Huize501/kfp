{
 "nbformat": 4,
 "nbformat_minor": 2,
 "metadata": {
  "language_info": {
   "name": "python",
   "codemirror_mode": {
    "name": "ipython",
    "version": 3
   }
  },
  "orig_nbformat": 2,
  "file_extension": ".py",
  "mimetype": "text/x-python",
  "name": "python",
  "npconvert_exporter": "python",
  "pygments_lexer": "ipython3",
  "version": 3
 },
 "cells": [
  {
   "cell_type": "code",
   "execution_count": 1,
   "metadata": {},
   "outputs": [
    {
     "name": "stdout",
     "output_type": "stream",
     "text": "Python 3.5.6 :: Anaconda, Inc.\n"
    }
   ],
   "source": [
    "!python -V"
   ]
  },
  {
   "cell_type": "code",
   "execution_count": 4,
   "metadata": {},
   "outputs": [],
   "source": [
    "!pip install kfp --upgrade\n"
   ]
  },
  {
   "cell_type": "code",
   "execution_count": 8,
   "metadata": {},
   "outputs": [],
   "source": [
    "import kfp\n",
    "from kfp import gcp\n",
    "from kfp import dsl\n",
    "\n",
    "import os\n",
    "from datetime import datetime\n",
    "import kfp.compiler as compiler\n",
    "\n",
    "client = kfp.Client(host='511b4fa793007e03-dot-us-central1.notebooks.googleusercontent.com')"
   ]
  },
  {
   "cell_type": "code",
   "execution_count": 9,
   "metadata": {},
   "outputs": [],
   "source": [
    "# Set your output and project\n",
    "YOUR_NAME = 'erwinh' #change to your name\n",
    "EXPERIMENT_NAME = 'Scikit Learn V1.15 %s' % (YOUR_NAME) # change to your experiment name\n",
    "PROJECT_NAME =  'erwinh-mldemo' # change this to your project name"
   ]
  },
  {
   "cell_type": "code",
   "execution_count": 10,
   "metadata": {},
   "outputs": [
    {
     "data": {
      "text/html": "Experiment link <a href=\"http://511b4fa793007e03-dot-us-central1.notebooks.googleusercontent.com/#/experiments/details/27cfc6c4-06b9-4689-a502-fc59228d7da1\" target=\"_blank\" >here</a>",
      "text/plain": "<IPython.core.display.HTML object>"
     },
     "metadata": {},
     "output_type": "display_data"
    }
   ],
   "source": [
    "experiment = client.create_experiment(EXPERIMENT_NAME)"
   ]
  },
  {
   "cell_type": "code",
   "execution_count": 17,
   "metadata": {},
   "outputs": [],
   "source": [
    "#TODO change to KFP github\n",
    "component_url_prefix = 'https://raw.githubusercontent.com/Huize501/kfp/master/scikit-component/'"
   ]
  },
  {
   "cell_type": "code",
   "execution_count": 18,
   "metadata": {},
   "outputs": [],
   "source": [
    "dummy_op = kfp.components.load_component_from_url(component_url_prefix + 'component.yaml') "
   ]
  },
  {
   "cell_type": "code",
   "execution_count": 25,
   "metadata": {},
   "outputs": [],
   "source": [
    "# Define a pipeline and create a task from a component:\n",
    "@kfp.dsl.pipeline(name='KFP Scikit-learn', description='sklearn pipeline')\n",
    "def my_pipeline(gcs_path_data = dsl.PipelineParam(name='pathdata', value='gs://erwinh-public-data/scikit/data/scikit-marketing-data.csv'),\n",
    "               data_storage = dsl.PipelineParam(name='storage', value='GCS'),\n",
    "               gcs_path_model = dsl.PipelineParam(name='pathoutput', value='gs://erwinh-public-data/kfp'), # change to your gcs path\n",
    "               bigquery_table = dsl.PipelineParam(name='bqtable', value='kfp-primer-workshop.marketing_data.raw') # change to your gcs path\n",
    "               ):\n",
    "    dummy1_task = dummy_op(\n",
    "        # Input name \"Input 1 URI\" is converted to pythonic parameter name \"input_1_uri\"\n",
    "        pathdata = gcs_path_data,\n",
    "        storage = data_storage,\n",
    "        pathoutput =gcs_path_model,\n",
    "        bqtable = bigquery_table,\n",
    "        ).apply(kfp.gcp.use_gcp_secret('user-gcp-sa'))"
   ]
  },
  {
   "cell_type": "code",
   "execution_count": 26,
   "metadata": {},
   "outputs": [],
   "source": [
    "pipeline_func = my_pipeline  \n",
    "pipeline_filename = pipeline_func.__name__ + '.pipeline.zip'\n",
    "compiler.Compiler().compile(pipeline_func, pipeline_filename)"
   ]
  },
  {
   "cell_type": "code",
   "execution_count": 27,
   "metadata": {},
   "outputs": [
    {
     "data": {
      "text/html": "Run link <a href=\"http://511b4fa793007e03-dot-us-central1.notebooks.googleusercontent.com/#/runs/details/7b14739d-747f-491b-b940-907c470b3e3b\" target=\"_blank\" >here</a>",
      "text/plain": "<IPython.core.display.HTML object>"
     },
     "metadata": {},
     "output_type": "display_data"
    }
   ],
   "source": [
    "#Specify pipeline argument values\n",
    "arguments = {}\n",
    "\n",
    "#Submit a pipeline run\n",
    "run_name = pipeline_func.__name__ + ' run %s' %datetime.now()\n",
    "run_result = client.run_pipeline(experiment.id, run_name, pipeline_filename, arguments)"
   ]
  },
  {
   "cell_type": "code",
   "execution_count": null,
   "metadata": {},
   "outputs": [],
   "source": []
  }
 ]
}