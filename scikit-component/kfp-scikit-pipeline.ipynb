{
 "nbformat": 4,
 "nbformat_minor": 2,
 "metadata": {
  "language_info": {
   "name": "python",
   "codemirror_mode": {
    "name": "ipython",
    "version": 3
   },
   "version": "3.6.4"
  },
  "orig_nbformat": 2,
  "file_extension": ".py",
  "mimetype": "text/x-python",
  "name": "python",
  "npconvert_exporter": "python",
  "pygments_lexer": "ipython3",
  "version": 3
 },
 "cells": [
  {
   "cell_type": "code",
   "execution_count": 1,
   "metadata": {},
   "outputs": [
    {
     "name": "stdout",
     "output_type": "stream",
     "text": "Python 3.5.6 :: Anaconda, Inc.\n"
    }
   ],
   "source": [
    "!python -V"
   ]
  },
  {
   "cell_type": "code",
   "execution_count": 2,
   "metadata": {},
   "outputs": [
    {
     "name": "stdout",
     "output_type": "stream",
     "text": "Collecting kfp\n\u001b[33m  Cache entry deserialization failed, entry ignored\u001b[0m\n  Downloading https://files.pythonhosted.org/packages/7f/3f/1f1ee9f92f155a70735e00b15ab3c9e1ca410aa2570a9947b75a67155f55/kfp-0.1.38.tar.gz (112kB)\n\u001b[K    100% |████████████████████████████████| 112kB 2.7MB/s \n\u001b[?25hCollecting urllib3<1.25,>=1.15 (from kfp)\n\u001b[33m  Cache entry deserialization failed, entry ignored\u001b[0m\n\u001b[33m  Cache entry deserialization failed, entry ignored\u001b[0m\n  Downloading https://files.pythonhosted.org/packages/01/11/525b02e4acc0c747de8b6ccdab376331597c569c42ea66ab0a1dbd36eca2/urllib3-1.24.3-py2.py3-none-any.whl (118kB)\n\u001b[K    100% |████████████████████████████████| 122kB 3.6MB/s \n\u001b[33mCache entry deserialization failed, entry ignored\u001b[0m\n\u001b[?25hCollecting six>=1.10 (from kfp)\n\u001b[33m  Cache entry deserialization failed, entry ignored\u001b[0m\n  Downloading https://files.pythonhosted.org/packages/65/26/32b8464df2a97e6dd1b656ed26b2c194606c16fe163c695a992b36c11cdf/six-1.13.0-py2.py3-none-any.whl\n\u001b[33mCache entry deserialization failed, entry ignored\u001b[0m\nCollecting certifi (from kfp)\n  Downloading https://files.pythonhosted.org/packages/b9/63/df50cac98ea0d5b006c55a399c3bf1db9da7b5a24de7890bc9cfd5dd9e99/certifi-2019.11.28-py2.py3-none-any.whl (156kB)\n\u001b[K    100% |████████████████████████████████| 163kB 3.8MB/s \n\u001b[33mCache entry deserialization failed, entry ignored\u001b[0m\n\u001b[?25hCollecting python-dateutil (from kfp)\n\u001b[33m  Cache entry deserialization failed, entry ignored\u001b[0m\n  Downloading https://files.pythonhosted.org/packages/d4/70/d60450c3dd48ef87586924207ae8907090de0b306af2bce5d134d78615cb/python_dateutil-2.8.1-py2.py3-none-any.whl (227kB)\n\u001b[K    100% |████████████████████████████████| 235kB 4.4MB/s \n\u001b[?25hCollecting PyYAML (from kfp)\n\u001b[33m  Cache entry deserialization failed, entry ignored\u001b[0m\n  Downloading https://files.pythonhosted.org/packages/8d/c9/e5be955a117a1ac548cdd31e37e8fd7b02ce987f9655f5c7563c656d5dcb/PyYAML-5.2.tar.gz (265kB)\n\u001b[K    100% |████████████████████████████████| 266kB 3.7MB/s \n\u001b[?25hCollecting google-cloud-storage>=1.13.0 (from kfp)\n\u001b[33m  Cache entry deserialization failed, entry ignored\u001b[0m\n  Downloading https://files.pythonhosted.org/packages/d8/13/70354d66a87c92797a4c233c00615d69986e7d7ecfbe6c00c7c237c9d465/google_cloud_storage-1.24.1-py2.py3-none-any.whl (72kB)\n\u001b[K    100% |████████████████████████████████| 81kB 6.9MB/s \n\u001b[?25hCollecting kubernetes<=9.0.0,>=8.0.0 (from kfp)\n\u001b[33m  Cache entry deserialization failed, entry ignored\u001b[0m\n\u001b[33m  Cache entry deserialization failed, entry ignored\u001b[0m\n  Downloading https://files.pythonhosted.org/packages/00/f7/4f196c55f1c2713d3edc8252c4b45326306eef4dc10048f13916fe446e2b/kubernetes-9.0.0-py2.py3-none-any.whl (1.4MB)\n\u001b[K    100% |████████████████████████████████| 1.4MB 897kB/s \n\u001b[?25hCollecting PyJWT>=1.6.4 (from kfp)\n\u001b[33m  Cache entry deserialization failed, entry ignored\u001b[0m\n\u001b[33m  Cache entry deserialization failed, entry ignored\u001b[0m\n  Downloading https://files.pythonhosted.org/packages/87/8b/6a9f14b5f781697e51259d81657e6048fd31a113229cf346880bb7545565/PyJWT-1.7.1-py2.py3-none-any.whl\nCollecting cryptography>=2.4.2 (from kfp)\n\u001b[33m  Cache entry deserialization failed, entry ignored\u001b[0m\n\u001b[33m  Cache entry deserialization failed, entry ignored\u001b[0m\n  Downloading https://files.pythonhosted.org/packages/6b/4a/ce93178469d4460d6b3a5e648fc1a2f426030f3d30a12d7ed4df73d044de/cryptography-2.8-cp34-abi3-macosx_10_6_intel.whl (1.6MB)\n\u001b[K    100% |████████████████████████████████| 1.6MB 789kB/s \n\u001b[?25hCollecting google-auth>=1.6.1 (from kfp)\n\u001b[33m  Cache entry deserialization failed, entry ignored\u001b[0m\n  Downloading https://files.pythonhosted.org/packages/36/f8/84b5771faec3eba9fe0c91c8c5896364a8ba08852c0dea5ad2025026dd95/google_auth-1.10.0-py2.py3-none-any.whl (76kB)\n\u001b[K    100% |████████████████████████████████| 81kB 3.7MB/s \n\u001b[?25hCollecting requests_toolbelt>=0.8.0 (from kfp)\n\u001b[33m  Cache entry deserialization failed, entry ignored\u001b[0m\n\u001b[33m  Cache entry deserialization failed, entry ignored\u001b[0m\n  Downloading https://files.pythonhosted.org/packages/60/ef/7681134338fc097acef8d9b2f8abe0458e4d87559c689a8c306d0957ece5/requests_toolbelt-0.9.1-py2.py3-none-any.whl (54kB)\n\u001b[K    100% |████████████████████████████████| 61kB 4.7MB/s \n\u001b[?25hCollecting cloudpickle==1.1.1 (from kfp)\n\u001b[33m  Cache entry deserialization failed, entry ignored\u001b[0m\n\u001b[33m  Cache entry deserialization failed, entry ignored\u001b[0m\n  Downloading https://files.pythonhosted.org/packages/24/fb/4f92f8c0f40a0d728b4f3d5ec5ff84353e705d8ff5e3e447620ea98b06bd/cloudpickle-1.1.1-py2.py3-none-any.whl\nCollecting kfp-server-api<=0.1.37,>=0.1.18 (from kfp)\n\u001b[33m  Cache entry deserialization failed, entry ignored\u001b[0m\n  Downloading https://files.pythonhosted.org/packages/c8/ba/4b4f6088fd92e8101f493a2edf6349de951b8c0cf3efac4efa25a997af4a/kfp-server-api-0.1.37.tar.gz\nCollecting argo-models==2.2.1a (from kfp)\n\u001b[33m  Cache entry deserialization failed, entry ignored\u001b[0m\n\u001b[33m  Cache entry deserialization failed, entry ignored\u001b[0m\n  Downloading https://files.pythonhosted.org/packages/62/53/a92df7c1c793edf2db99b14e428246e4b49b93499a5c9ed013e0aa2416f6/argo-models-2.2.1a0.tar.gz\nCollecting jsonschema>=3.0.1 (from kfp)\n\u001b[33m  Cache entry deserialization failed, entry ignored\u001b[0m\n  Downloading https://files.pythonhosted.org/packages/c5/8f/51e89ce52a085483359217bc72cdbf6e75ee595d5b1d4b5ade40c7e018b8/jsonschema-3.2.0-py2.py3-none-any.whl (56kB)\n\u001b[K    100% |████████████████████████████████| 61kB 8.4MB/s \n\u001b[?25hCollecting tabulate==0.8.3 (from kfp)\n\u001b[33m  Cache entry deserialization failed, entry ignored\u001b[0m\n\u001b[33m  Cache entry deserialization failed, entry ignored\u001b[0m\n  Downloading https://files.pythonhosted.org/packages/c2/fd/202954b3f0eb896c53b7b6f07390851b1fd2ca84aa95880d7ae4f434c4ac/tabulate-0.8.3.tar.gz (46kB)\n\u001b[K    100% |████████████████████████████████| 51kB 5.5MB/s \n\u001b[?25hCollecting click==7.0 (from kfp)\n\u001b[33m  Cache entry deserialization failed, entry ignored\u001b[0m\n\u001b[33m  Cache entry deserialization failed, entry ignored\u001b[0m\n  Downloading https://files.pythonhosted.org/packages/fa/37/45185cb5abbc30d7257104c434fe0b07e5a195a6847506c074527aa599ec/Click-7.0-py2.py3-none-any.whl (81kB)\n\u001b[K    100% |████████████████████████████████| 81kB 7.6MB/s \n\u001b[?25hCollecting Deprecated (from kfp)\n\u001b[33m  Cache entry deserialization failed, entry ignored\u001b[0m\n  Downloading https://files.pythonhosted.org/packages/f6/89/62912e01f3cede11edcc0abf81298e3439d9c06c8dce644369380ed13f6d/Deprecated-1.2.7-py2.py3-none-any.whl\nCollecting google-cloud-core<2.0dev,>=1.1.0 (from google-cloud-storage>=1.13.0->kfp)\n\u001b[33m  Cache entry deserialization failed, entry ignored\u001b[0m\n  Downloading https://files.pythonhosted.org/packages/93/54/8c5542c0df4c8a92c0b8736ee67abc4daa9ff3734a0119310c125673ac79/google_cloud_core-1.1.0-py2.py3-none-any.whl\nCollecting google-resumable-media<0.6dev,>=0.5.0 (from google-cloud-storage>=1.13.0->kfp)\n\u001b[33m  Cache entry deserialization failed, entry ignored\u001b[0m\n  Downloading https://files.pythonhosted.org/packages/35/9e/f73325d0466ce5bdc36333f1aeb2892ead7b76e79bdb5c8b0493961fa098/google_resumable_media-0.5.0-py2.py3-none-any.whl\nCollecting requests (from kubernetes<=9.0.0,>=8.0.0->kfp)\n\u001b[33m  Cache entry deserialization failed, entry ignored\u001b[0m\n\u001b[33m  Cache entry deserialization failed, entry ignored\u001b[0m\n  Downloading https://files.pythonhosted.org/packages/51/bd/23c926cd341ea6b7dd0b2a00aba99ae0f828be89d72b2190f27c11d4b7fb/requests-2.22.0-py2.py3-none-any.whl (57kB)\n\u001b[K    100% |████████████████████████████████| 61kB 4.1MB/s \n\u001b[33mCache entry deserialization failed, entry ignored\u001b[0m\n\u001b[?25hCollecting setuptools>=21.0.0 (from kubernetes<=9.0.0,>=8.0.0->kfp)\n  Downloading https://files.pythonhosted.org/packages/f9/d3/955738b20d3832dfa3cd3d9b07e29a8162edb480bf988332f5e6e48ca444/setuptools-44.0.0-py2.py3-none-any.whl (583kB)\n\u001b[K    100% |████████████████████████████████| 583kB 2.2MB/s \n\u001b[?25hCollecting websocket-client!=0.40.0,!=0.41.*,!=0.42.*,>=0.32.0 (from kubernetes<=9.0.0,>=8.0.0->kfp)\n\u001b[33m  Cache entry deserialization failed, entry ignored\u001b[0m\n  Downloading https://files.pythonhosted.org/packages/4c/5f/f61b420143ed1c8dc69f9eaec5ff1ac36109d52c80de49d66e0c36c3dfdf/websocket_client-0.57.0-py2.py3-none-any.whl (200kB)\n\u001b[K    100% |████████████████████████████████| 204kB 3.5MB/s \n\u001b[?25hCollecting requests-oauthlib (from kubernetes<=9.0.0,>=8.0.0->kfp)\n\u001b[33m  Cache entry deserialization failed, entry ignored\u001b[0m\n\u001b[33m  Cache entry deserialization failed, entry ignored\u001b[0m\n  Downloading https://files.pythonhosted.org/packages/a3/12/b92740d845ab62ea4edf04d2f4164d82532b5a0b03836d4d4e71c6f3d379/requests_oauthlib-1.3.0-py2.py3-none-any.whl\nCollecting cffi!=1.11.3,>=1.8 (from cryptography>=2.4.2->kfp)\n\u001b[33m  Cache entry deserialization failed, entry ignored\u001b[0m\n  Downloading https://files.pythonhosted.org/packages/c1/ae/bcf26260176ca7ea576f4c7ddf8dc2a5397d8792699dc9dce2790851958e/cffi-1.13.2-cp36-cp36m-macosx_10_6_intel.whl (258kB)\n\u001b[K    100% |████████████████████████████████| 266kB 2.8MB/s \n\u001b[?25hCollecting cachetools<5.0,>=2.0.0 (from google-auth>=1.6.1->kfp)\n\u001b[33m  Cache entry deserialization failed, entry ignored\u001b[0m\n  Downloading https://files.pythonhosted.org/packages/08/6a/abf83cb951617793fd49c98cb9456860f5df66ff89883c8660aa0672d425/cachetools-4.0.0-py3-none-any.whl\nCollecting pyasn1-modules>=0.2.1 (from google-auth>=1.6.1->kfp)\n\u001b[33m  Cache entry deserialization failed, entry ignored\u001b[0m\n\u001b[33m  Cache entry deserialization failed, entry ignored\u001b[0m\n  Downloading https://files.pythonhosted.org/packages/52/50/bb4cefca37da63a0c52218ba2cb1b1c36110d84dcbae8aa48cd67c5e95c2/pyasn1_modules-0.2.7-py2.py3-none-any.whl (131kB)\n\u001b[K    100% |████████████████████████████████| 133kB 2.2MB/s \n\u001b[?25hCollecting rsa<4.1,>=3.1.4 (from google-auth>=1.6.1->kfp)\n\u001b[33m  Cache entry deserialization failed, entry ignored\u001b[0m\n  Using cached https://files.pythonhosted.org/packages/02/e5/38518af393f7c214357079ce67a317307936896e961e35450b70fad2a9cf/rsa-4.0-py2.py3-none-any.whl\nCollecting importlib-metadata; python_version < \"3.8\" (from jsonschema>=3.0.1->kfp)\n\u001b[33m  Cache entry deserialization failed, entry ignored\u001b[0m\n  Downloading https://files.pythonhosted.org/packages/e9/71/1a1e0ed0981bb6a67bce55a210f168126b7ebd2065958673797ea66489ca/importlib_metadata-1.3.0-py2.py3-none-any.whl\nCollecting pyrsistent>=0.14.0 (from jsonschema>=3.0.1->kfp)\n\u001b[33m  Cache entry deserialization failed, entry ignored\u001b[0m\n  Downloading https://files.pythonhosted.org/packages/6c/6f/c1a2e8da80a0029f6b618d7e20e1a6f2a61dd04e2e54225309c2cc4268f7/pyrsistent-0.15.6.tar.gz (107kB)\n\u001b[K    100% |████████████████████████████████| 112kB 3.7MB/s \n\u001b[?25hCollecting attrs>=17.4.0 (from jsonschema>=3.0.1->kfp)\n\u001b[33m  Cache entry deserialization failed, entry ignored\u001b[0m\n\u001b[33m  Cache entry deserialization failed, entry ignored\u001b[0m\n  Downloading https://files.pythonhosted.org/packages/a2/db/4313ab3be961f7a763066401fb77f7748373b6094076ae2bda2806988af6/attrs-19.3.0-py2.py3-none-any.whl\nCollecting wrapt<2,>=1.10 (from Deprecated->kfp)\n\u001b[33m  Cache entry deserialization failed, entry ignored\u001b[0m\nCollecting google-api-core<2.0.0dev,>=1.14.0 (from google-cloud-core<2.0dev,>=1.1.0->google-cloud-storage>=1.13.0->kfp)\n\u001b[33m  Cache entry deserialization failed, entry ignored\u001b[0m\n  Downloading https://files.pythonhosted.org/packages/d0/70/bd363339fc88a1c434655ba03171d46aa2e679e1452cc95a4a8679e76a7a/google_api_core-1.15.0-py2.py3-none-any.whl (69kB)\n\u001b[K    100% |████████████████████████████████| 71kB 8.7MB/s \n\u001b[?25hCollecting idna<2.9,>=2.5 (from requests->kubernetes<=9.0.0,>=8.0.0->kfp)\n\u001b[33m  Cache entry deserialization failed, entry ignored\u001b[0m\n  Using cached https://files.pythonhosted.org/packages/14/2c/cd551d81dbe15200be1cf41cd03869a46fe7226e7450af7a6545bfc474c9/idna-2.8-py2.py3-none-any.whl\nCollecting chardet<3.1.0,>=3.0.2 (from requests->kubernetes<=9.0.0,>=8.0.0->kfp)\n\u001b[33m  Cache entry deserialization failed, entry ignored\u001b[0m\n  Using cached https://files.pythonhosted.org/packages/bc/a9/01ffebfb562e4274b6487b4bb1ddec7ca55ec7510b22e4c51f14098443b8/chardet-3.0.4-py2.py3-none-any.whl\nCollecting oauthlib>=3.0.0 (from requests-oauthlib->kubernetes<=9.0.0,>=8.0.0->kfp)\n\u001b[33m  Cache entry deserialization failed, entry ignored\u001b[0m\n\u001b[33m  Cache entry deserialization failed, entry ignored\u001b[0m\n  Downloading https://files.pythonhosted.org/packages/05/57/ce2e7a8fa7c0afb54a0581b14a65b56e62b5759dbc98e80627142b8a3704/oauthlib-3.1.0-py2.py3-none-any.whl (147kB)\n\u001b[K    100% |████████████████████████████████| 153kB 3.1MB/s \n\u001b[?25hCollecting pycparser (from cffi!=1.11.3,>=1.8->cryptography>=2.4.2->kfp)\n\u001b[33m  Cache entry deserialization failed, entry ignored\u001b[0m\nCollecting pyasn1<0.5.0,>=0.4.6 (from pyasn1-modules>=0.2.1->google-auth>=1.6.1->kfp)\n\u001b[33m  Cache entry deserialization failed, entry ignored\u001b[0m\n  Downloading https://files.pythonhosted.org/packages/62/1e/a94a8d635fa3ce4cfc7f506003548d0a2447ae76fd5ca53932970fe3053f/pyasn1-0.4.8-py2.py3-none-any.whl (77kB)\n\u001b[K    100% |████████████████████████████████| 81kB 7.3MB/s \n\u001b[?25hCollecting zipp>=0.5 (from importlib-metadata; python_version < \"3.8\"->jsonschema>=3.0.1->kfp)\n\u001b[33m  Cache entry deserialization failed, entry ignored\u001b[0m\n\u001b[33m  Cache entry deserialization failed, entry ignored\u001b[0m\n  Downloading https://files.pythonhosted.org/packages/74/3d/1ee25a26411ba0401b43c6376d2316a71addcc72ef8690b101b4ea56d76a/zipp-0.6.0-py2.py3-none-any.whl\nCollecting protobuf>=3.4.0 (from google-api-core<2.0.0dev,>=1.14.0->google-cloud-core<2.0dev,>=1.1.0->google-cloud-storage>=1.13.0->kfp)\n\u001b[33m  Cache entry deserialization failed, entry ignored\u001b[0m\n  Downloading https://files.pythonhosted.org/packages/11/6e/ec95365e36f7a1f60266a6e0144099a47635636f9b610672ad5dafcd563b/protobuf-3.11.2-cp36-cp36m-macosx_10_9_x86_64.whl (1.3MB)\n\u001b[K    100% |████████████████████████████████| 1.3MB 950kB/s \n\u001b[?25hCollecting googleapis-common-protos<2.0dev,>=1.6.0 (from google-api-core<2.0.0dev,>=1.14.0->google-cloud-core<2.0dev,>=1.1.0->google-cloud-storage>=1.13.0->kfp)\n\u001b[33m  Cache entry deserialization failed, entry ignored\u001b[0m\n\u001b[33mCache entry deserialization failed, entry ignored\u001b[0m\nCollecting pytz (from google-api-core<2.0.0dev,>=1.14.0->google-cloud-core<2.0dev,>=1.1.0->google-cloud-storage>=1.13.0->kfp)\n\u001b[33m  Cache entry deserialization failed, entry ignored\u001b[0m\n  Downloading https://files.pythonhosted.org/packages/e7/f9/f0b53f88060247251bf481fa6ea62cd0d25bf1b11a87888e53ce5b7c8ad2/pytz-2019.3-py2.py3-none-any.whl (509kB)\n\u001b[K    100% |████████████████████████████████| 512kB 2.2MB/s \n\u001b[?25hCollecting more-itertools (from zipp>=0.5->importlib-metadata; python_version < \"3.8\"->jsonschema>=3.0.1->kfp)\n\u001b[33m  Cache entry deserialization failed, entry ignored\u001b[0m\n  Downloading https://files.pythonhosted.org/packages/68/03/0604cec1ea13c9f063dd50f900d1a36160334dd3cfb01fd0e638f61b46ba/more_itertools-8.0.2-py3-none-any.whl (40kB)\n\u001b[K    100% |████████████████████████████████| 40kB 2.1MB/s \n\u001b[?25hBuilding wheels for collected packages: kfp, PyYAML, kfp-server-api, argo-models, tabulate, pyrsistent\n  Running setup.py bdist_wheel for kfp ... \u001b[?25ldone\n\u001b[?25h  Stored in directory: /Users/erwinh/Library/Caches/pip/wheels/2a/57/db/479feb92a6c60c5a86476e176cc3d4e0c6f9517c02553e6ff9\n  Running setup.py bdist_wheel for PyYAML ... \u001b[?25ldone\n\u001b[?25h  Stored in directory: /Users/erwinh/Library/Caches/pip/wheels/54/b7/c7/2ada654ee54483c9329871665aaf4a6056c3ce36f29cf66e67\n  Running setup.py bdist_wheel for kfp-server-api ... \u001b[?25ldone\n\u001b[?25h  Stored in directory: /Users/erwinh/Library/Caches/pip/wheels/88/91/06/c5356e8438626814069fdc8ddd620ad984b1dd389ec44c8f07\n  Running setup.py bdist_wheel for argo-models ... \u001b[?25ldone\n\u001b[?25h  Stored in directory: /Users/erwinh/Library/Caches/pip/wheels/bd/5b/6b/20cdc06ddb10caa3a86f5804eb9a90122ae8de0bcf19a468d8\n  Running setup.py bdist_wheel for tabulate ... \u001b[?25ldone\n\u001b[?25h  Stored in directory: /Users/erwinh/Library/Caches/pip/wheels/2b/67/89/414471314a2d15de625d184d8be6d38a03ae1e983dbda91e84\n  Running setup.py bdist_wheel for pyrsistent ... \u001b[?25ldone\n\u001b[?25h  Stored in directory: /Users/erwinh/Library/Caches/pip/wheels/83/89/d3/1712b9c33c9b9c0911b188a86aeff2a9a05e113f986cf79d92\nSuccessfully built kfp PyYAML kfp-server-api argo-models tabulate pyrsistent\nInstalling collected packages: urllib3, six, certifi, python-dateutil, PyYAML, cachetools, setuptools, pyasn1, pyasn1-modules, rsa, google-auth, protobuf, googleapis-common-protos, idna, chardet, requests, pytz, google-api-core, google-cloud-core, google-resumable-media, google-cloud-storage, websocket-client, oauthlib, requests-oauthlib, kubernetes, PyJWT, pycparser, cffi, cryptography, requests-toolbelt, cloudpickle, kfp-server-api, argo-models, more-itertools, zipp, importlib-metadata, pyrsistent, attrs, jsonschema, tabulate, click, wrapt, Deprecated, kfp\n  Found existing installation: six 1.11.0\n    Uninstalling six-1.11.0:\n      Successfully uninstalled six-1.11.0\n  Found existing installation: certifi 2018.1.18\n\u001b[31m    DEPRECATION: Uninstalling a distutils installed project (certifi) has been deprecated and will be removed in a future version. This is due to the fact that uninstalling a distutils project will only partially uninstall the project.\u001b[0m\n    Uninstalling certifi-2018.1.18:\n      Successfully uninstalled certifi-2018.1.18\n  Found existing installation: python-dateutil 2.6.1\n    Uninstalling python-dateutil-2.6.1:\n      Successfully uninstalled python-dateutil-2.6.1\n  Found existing installation: setuptools 38.5.1\n    Uninstalling setuptools-38.5.1:\n      Successfully uninstalled setuptools-38.5.1\n  Found existing installation: pytz 2018.3\n    Uninstalling pytz-2018.3:\n      Successfully uninstalled pytz-2018.3\n  Found existing installation: jsonschema 2.6.0\n    Uninstalling jsonschema-2.6.0:\n      Successfully uninstalled jsonschema-2.6.0\nSuccessfully installed Deprecated-1.2.7 PyJWT-1.7.1 PyYAML-5.2 argo-models-2.2.1a0 attrs-19.3.0 cachetools-4.0.0 certifi-2019.11.28 cffi-1.13.2 chardet-3.0.4 click-7.0 cloudpickle-1.1.1 cryptography-2.8 google-api-core-1.15.0 google-auth-1.10.0 google-cloud-core-1.1.0 google-cloud-storage-1.24.1 google-resumable-media-0.5.0 googleapis-common-protos-1.6.0 idna-2.8 importlib-metadata-1.3.0 jsonschema-3.2.0 kfp-0.1.38 kfp-server-api-0.1.37 kubernetes-9.0.0 more-itertools-8.0.2 oauthlib-3.1.0 protobuf-3.11.2 pyasn1-0.4.8 pyasn1-modules-0.2.7 pycparser-2.19 pyrsistent-0.15.6 python-dateutil-2.8.1 pytz-2019.3 requests-2.22.0 requests-oauthlib-1.3.0 requests-toolbelt-0.9.1 rsa-4.0 setuptools-44.0.0 six-1.13.0 tabulate-0.8.3 urllib3-1.24.3 websocket-client-0.57.0 wrapt-1.11.2 zipp-0.6.0\n\u001b[33mYou are using pip version 9.0.1, however version 19.3.1 is available.\nYou should consider upgrading via the 'pip install --upgrade pip' command.\u001b[0m\n"
    }
   ],
   "source": [
    "!pip install kfp --upgrade\n"
   ]
  },
  {
   "cell_type": "code",
   "execution_count": 3,
   "metadata": {},
   "outputs": [],
   "source": [
    "import kfp\n",
    "from kfp import gcp\n",
    "from kfp import dsl\n",
    "\n",
    "import os\n",
    "from datetime import datetime\n",
    "import kfp.compiler as compiler\n",
    "\n",
    "client = kfp.Client(host='511b4fa793007e03-dot-us-central1.notebooks.googleusercontent.com')"
   ]
  },
  {
   "cell_type": "code",
   "execution_count": 4,
   "metadata": {},
   "outputs": [],
   "source": [
    "# Set your output and project\n",
    "YOUR_NAME = 'erwinh' #change to your name\n",
    "EXPERIMENT_NAME = 'Scikit Learn V1.15 %s' % (YOUR_NAME) # change to your experiment name\n",
    "PROJECT_NAME =  'erwinh-mldemo' # change this to your project name"
   ]
  },
  {
   "cell_type": "code",
   "execution_count": 5,
   "metadata": {},
   "outputs": [
    {
     "data": {
      "text/html": "Experiment link <a href=\"http://511b4fa793007e03-dot-us-central1.notebooks.googleusercontent.com/#/experiments/details/27cfc6c4-06b9-4689-a502-fc59228d7da1\" target=\"_blank\" >here</a>",
      "text/plain": "<IPython.core.display.HTML object>"
     },
     "metadata": {},
     "output_type": "display_data"
    }
   ],
   "source": [
    "experiment = client.create_experiment(EXPERIMENT_NAME)"
   ]
  },
  {
   "cell_type": "code",
   "execution_count": 8,
   "metadata": {},
   "outputs": [],
   "source": [
    "#TODO change to KFP github\n",
    "component_url_prefix = 'https://raw.githubusercontent.com/Huize501/kfp/master/scikit-component/'"
   ]
  },
  {
   "cell_type": "code",
   "execution_count": 9,
   "metadata": {},
   "outputs": [],
   "source": [
    "dummy_op = kfp.components.load_component_from_url(component_url_prefix + 'component.yaml') "
   ]
  },
  {
   "cell_type": "code",
   "execution_count": 10,
   "metadata": {},
   "outputs": [],
   "source": [
    "# Define a pipeline and create a task from a component:\n",
    "@kfp.dsl.pipeline(name='KFP Scikit-learn', description='sklearn pipeline')\n",
    "def my_pipeline(gcs_path_data = dsl.PipelineParam(name='pathdata', value='gs://erwinh-public-data/scikit/data/scikit-marketing-data.csv'),\n",
    "               data_storage = dsl.PipelineParam(name='storage', value='GCS'),\n",
    "               gcs_path_model = dsl.PipelineParam(name='pathoutput', value='gs://erwinh-public-data/kfp'), # change to your gcs path\n",
    "               bigquery_table = dsl.PipelineParam(name='bqtable', value='kfp-primer-workshop.marketing_data.raw') # change to your gcs path\n",
    "               ):\n",
    "    dummy1_task = dummy_op(\n",
    "        # Input name \"Input 1 URI\" is converted to pythonic parameter name \"input_1_uri\"\n",
    "        pathdata = gcs_path_data,\n",
    "        storage = data_storage,\n",
    "        pathoutput =gcs_path_model,\n",
    "        bqtable = bigquery_table,\n",
    "        ).apply(kfp.gcp.use_gcp_secret('user-gcp-sa'))"
   ]
  },
  {
   "cell_type": "code",
   "execution_count": 11,
   "metadata": {},
   "outputs": [
    {
     "name": "stderr",
     "output_type": "stream",
     "text": "/Users/erwinh/anaconda/envs/dlnd/lib/python3.6/site-packages/kfp/dsl/_metadata.py:118: UserWarning: Explicit creation of `kfp.dsl.PipelineParam`s by the users is deprecated. The users should define the parameter type and default values using standard pythonic constructs: def my_func(a: int = 1, b: str = \"default\"):\n  warnings.warn('Explicit creation of `kfp.dsl.PipelineParam`s by the users is deprecated. The users should define the parameter type and default values using standard pythonic constructs: def my_func(a: int = 1, b: str = \"default\"):')\n"
    }
   ],
   "source": [
    "pipeline_func = my_pipeline  \n",
    "pipeline_filename = pipeline_func.__name__ + '.pipeline.zip'\n",
    "compiler.Compiler().compile(pipeline_func, pipeline_filename)"
   ]
  },
  {
   "cell_type": "code",
   "execution_count": 27,
   "metadata": {},
   "outputs": [
    {
     "data": {
      "text/html": "Run link <a href=\"http://511b4fa793007e03-dot-us-central1.notebooks.googleusercontent.com/#/runs/details/7b14739d-747f-491b-b940-907c470b3e3b\" target=\"_blank\" >here</a>",
      "text/plain": "<IPython.core.display.HTML object>"
     },
     "metadata": {},
     "output_type": "display_data"
    }
   ],
   "source": [
    "#Specify pipeline argument values\n",
    "arguments = {}\n",
    "\n",
    "#Submit a pipeline run\n",
    "run_name = pipeline_func.__name__ + ' run %s' %datetime.now()\n",
    "run_result = client.run_pipeline(experiment.id, run_name, pipeline_filename, arguments)"
   ]
  },
  {
   "cell_type": "code",
   "execution_count": null,
   "metadata": {},
   "outputs": [],
   "source": []
  }
 ]
}